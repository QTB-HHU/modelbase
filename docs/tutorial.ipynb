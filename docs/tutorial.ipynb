{
 "cells": [
  {
   "cell_type": "markdown",
   "metadata": {},
   "source": [
    "# Modelbase Tutorial"
   ]
  },
  {
   "cell_type": "markdown",
   "metadata": {},
   "source": [
    "MODELbase is a Python based wrapper around the most useful commands that allow you to **create** and **analyse** dynamic mathematical models of biological systems. It has been developed at the [Insitute for Quantitative and Theoretical Biology](http://www.qtb.hhu.de/) at the Heinrich-Heine University Düsseldorf, Germany. "
   ]
  },
  {
   "cell_type": "markdown",
   "metadata": {},
   "source": [
    "<a name=\"start\"></a>\n",
    "##  Getting started"
   ]
  },
  {
   "cell_type": "code",
   "execution_count": 2,
   "metadata": {},
   "outputs": [],
   "source": [
    "# Import the necessary packages\n",
    "import modelbase\n",
    "import matplotlib.pyplot as plt\n",
    "import numpy as np"
   ]
  },
  {
   "cell_type": "markdown",
   "metadata": {},
   "source": [
    "Modelbase incorporates an easy construction method to define 'reactions'. Every model is defined by:\n",
    "- model variables,\n",
    "- model parameters,\n",
    "- rate equations,\n",
    "- stoichiometries.\n",
    "\n",
    "With this information the system of differential equations is assembled **automatically**.\n",
    "\n",
    "\n",
    "### Example 1: Modelling a simple chain of reactions\n",
    "#### Model definition\n",
    "We apply modelbase to simulate a simple chain of three reactions with two state variables \"X\" and \"Y\".\n",
    "\n",
    "<img src=\"figures/exp1scheme.png\" width=\"400\" height=\"400\" />"
   ]
  },
  {
   "cell_type": "code",
   "execution_count": 3,
   "metadata": {},
   "outputs": [],
   "source": [
    "# Define metabolite species X and Y as a list\n",
    "cl = ['X','Y']"
   ]
  },
  {
   "cell_type": "markdown",
   "metadata": {},
   "source": [
    "Parameters:\n",
    "- influx (v0),\n",
    "- rate constant conversion X->Y (k1),\n",
    "- rate constant for outflux (k2)."
   ]
  },
  {
   "cell_type": "code",
   "execution_count": 4,
   "metadata": {},
   "outputs": [],
   "source": [
    "# Provide parameters in a form of dictionary\n",
    "p = {'v0':1,\n",
    "     'k1':0.5,\n",
    "     'k2':0.1}"
   ]
  },
  {
   "cell_type": "code",
   "execution_count": 5,
   "metadata": {},
   "outputs": [],
   "source": [
    "# Instantiate model and pass the parameters set\n",
    "m = modelbase.Model(p)"
   ]
  },
  {
   "cell_type": "markdown",
   "metadata": {},
   "source": [
    "The variables can now be accessed by ```m.par.name```"
   ]
  },
  {
   "cell_type": "code",
   "execution_count": 6,
   "metadata": {},
   "outputs": [
    {
     "name": "stdout",
     "output_type": "stream",
     "text": [
      "The rate of v0 is 1\n"
     ]
    }
   ],
   "source": [
    "print('The rate of v0 is', m.par.v0)"
   ]
  },
  {
   "cell_type": "markdown",
   "metadata": {},
   "source": [
    "Model assumptions:\n",
    "- constant influx of X, \n",
    "- irreversible conversion of X to Y\n",
    "- irreversible outflux of Y."
   ]
  },
  {
   "cell_type": "code",
   "execution_count": 7,
   "metadata": {},
   "outputs": [],
   "source": [
    "# Add the variables. Variables are ALWAYS defined by names (i.e. strings). \n",
    "# These are later used to access and identify the variables and their values.\n",
    "m.set_cpds(cl)"
   ]
  },
  {
   "cell_type": "markdown",
   "metadata": {},
   "source": [
    "To define the reaction rates we need to:\n",
    "1. define a rate function\n",
    "   - all the rate functions always accept the model parameters as first argument,\n",
    "   - the remaining arguments are metabolite concentrations as defined in the ```set_rate``` command\n",
    "2. define the stoichiometries\n",
    "   - the stoichiometries can be defined by the rate: ```m.set_stoichiometry```\n",
    "   - or by the compound name ```set_stoichiometry_byCpd```"
   ]
  },
  {
   "cell_type": "code",
   "execution_count": 8,
   "metadata": {},
   "outputs": [],
   "source": [
    "# Define the reaction rate of the function that produces X\n",
    "# It is particulary simple, because it is constant\n",
    "# We set the rate by providing the name of the rate, function and compounds that are passed to the function (here none)\n",
    "m.set_rate('v0',lambda p:p.v0)"
   ]
  },
  {
   "cell_type": "markdown",
   "metadata": {},
   "source": [
    "We have used here Python's *lambda* expression. There are numbers of available lambda tutorials out there like [this](https://pythonspot.com/python-lambda/) or [this](https://www.python-course.eu/python3_lambda.php) but particularly nice is the [Stupid lambda tricks](http://p-nand-q.com/python/lambda.html) addressed to \"wacky geek fun hackers\"."
   ]
  },
  {
   "cell_type": "code",
   "execution_count": 9,
   "metadata": {},
   "outputs": [],
   "source": [
    "# Define the reaction rate of the irreversible v1 where one X is consumed and one Y is produced\n",
    "# We assume simple mass-action kinetics \n",
    "def v1(p,x):\n",
    "    return p.k1*x"
   ]
  },
  {
   "cell_type": "code",
   "execution_count": 10,
   "metadata": {},
   "outputs": [],
   "source": [
    "# Set the rate and pass to the v1 concentrations of X and Y\n",
    "m.set_rate('v1',v1,'X')"
   ]
  },
  {
   "cell_type": "code",
   "execution_count": 11,
   "metadata": {},
   "outputs": [],
   "source": [
    "# Define the reaction rate of the irreversible v2 and set the rate\n",
    "# We (again) assume simple mass-action kinetics\n",
    "def v2(p,y):\n",
    "    return p.k2*y\n",
    "\n",
    "m.set_rate('v2',v2,'Y')"
   ]
  },
  {
   "cell_type": "code",
   "execution_count": 12,
   "metadata": {},
   "outputs": [],
   "source": [
    "# Set the stoichiometry of all three reactions \n",
    "m.set_stoichiometry('v0',{'X':1})\n",
    "m.set_stoichiometry('v1',{'X':-1,'Y':1})\n",
    "m.set_stoichiometry('v2',{'Y':-1})"
   ]
  },
  {
   "cell_type": "code",
   "execution_count": 13,
   "metadata": {},
   "outputs": [
    {
     "data": {
      "text/plain": [
       "{'v0': {'X': 1}, 'v1': {'X': -1, 'Y': 1}, 'v2': {'Y': -1}}"
      ]
     },
     "execution_count": 13,
     "metadata": {},
     "output_type": "execute_result"
    }
   ],
   "source": [
    "# You can check the stoichiometries of the model with the special method\n",
    "m.stoichiometries"
   ]
  },
  {
   "cell_type": "markdown",
   "metadata": {},
   "source": [
    "Mathematically, this results in the two model equations:\n",
    "\n",
    "$\\frac{dX}{dt} = v_0 - k_1*[X]$\n",
    "\n",
    "$\\frac{dY}{dt} = k_1*[X] - k_2*[Y]$\n",
    "\n",
    "therefore it might be more intuitive to set the stoichiometry by the compound name, which is also supported by the modelbase.\n",
    "```\n",
    "m.set_stoichiometry_byCpd('X',{'v0':1, 'v1':-1})\n",
    "m.set_stoichiometry_byCpd('Y',{'v1':1,'v2':-1})\n",
    "```"
   ]
  },
  {
   "cell_type": "markdown",
   "metadata": {},
   "source": [
    "#### Model analysis\n",
    "To perform any type of simulations we create a new simulate object using ```modelbase.Simulator``` class"
   ]
  },
  {
   "cell_type": "code",
   "execution_count": 14,
   "metadata": {},
   "outputs": [],
   "source": [
    "s = modelbase.Simulator(m)"
   ]
  },
  {
   "cell_type": "markdown",
   "metadata": {},
   "source": [
    "There is a number of build in methods to integrate. The simplest one is the integration over a given period of time ```timeCourse```. The method takes as the first argument **time interval** and as a second the **initial conditions**, and returns an array of state variables Several optional arguments are available to customise the settings of the integration method. "
   ]
  },
  {
   "cell_type": "code",
   "execution_count": 15,
   "metadata": {},
   "outputs": [],
   "source": [
    "# Define time for integration\n",
    "time = np.linspace(0,100,1000)"
   ]
  },
  {
   "cell_type": "code",
   "execution_count": 16,
   "metadata": {},
   "outputs": [],
   "source": [
    "# Integrate\n",
    "s.timeCourse(time,np.zeros(2));"
   ]
  },
  {
   "cell_type": "code",
   "execution_count": 17,
   "metadata": {},
   "outputs": [
    {
     "data": {
      "image/png": "[encoded data removed]",
      "text/plain": [
       "<Figure size 432x288 with 1 Axes>"
      ]
     },
     "metadata": {},
     "output_type": "display_data"
    }
   ],
   "source": [
    "# Plot the temporal evolution of X and Y\n",
    "plt.figure()\n",
    "plt.plot(s.getT(),s.getY())\n",
    "plt.legend(m.cpdNames)\n",
    "plt.xlabel('time [s]')\n",
    "plt.ylabel('protein concentration [a.u.]')\n",
    "plt.draw_if_interactive()\n",
    "plt.show()"
   ]
  },
  {
   "cell_type": "markdown",
   "metadata": {},
   "source": [
    "---\n",
    "<a name=\"linchain\"></a>\n",
    "## Example 1: Modelling reaction chain assuming that $v_1$ is reversible\n",
    "We assume now reversible conversion of X to Y\n",
    "\n",
    "<img src=\"figures/exp1scheme.png\" width=\"400\" height=\"400\" />\n",
    "\n",
    "where the rate of v1 can be described as $v_1 = k_{1p}*[X] - k_{1m}*[Y]$"
   ]
  },
  {
   "cell_type": "code",
   "execution_count": 18,
   "metadata": {},
   "outputs": [],
   "source": [
    "# Provide now 4 parameters with k1 forward and backward\n",
    "p = {'v0':1,\n",
    "     'k1p':0.5,\n",
    "     'k1m':1,\n",
    "     'k2':0.1}"
   ]
  },
  {
   "cell_type": "code",
   "execution_count": 19,
   "metadata": {},
   "outputs": [],
   "source": [
    "# Reinstantiate model with the new parameter set\n",
    "m = modelbase.Model(p)"
   ]
  },
  {
   "cell_type": "code",
   "execution_count": 20,
   "metadata": {},
   "outputs": [],
   "source": [
    "# Add compounds, unchanged reactions v1 and v2 and set stoichiometries for them\n",
    "m.set_cpds(cl)\n",
    "\n",
    "m.set_rate('v0',lambda p:p.v0)\n",
    "m.set_stoichiometry('v0',{'X':1})\n",
    "\n",
    "m.set_rate('v2',v2,'Y')\n",
    "m.set_stoichiometry('v2',{'Y':-1})"
   ]
  },
  {
   "cell_type": "code",
   "execution_count": 21,
   "metadata": {},
   "outputs": [],
   "source": [
    "# Redefine the kinetics of v1 with a reversible mass-action kinetics\n",
    "def v1(p,x,y):\n",
    "    return p.k1p*x - p.k1m*y\n",
    "\n",
    "m.set_rate('v1',v1,'X','Y') # tells the model to pass concentrations of X and Y\n",
    "m.set_stoichiometry('v1',{'X':-1,'Y':1}) # one X destroyed, one Y created"
   ]
  },
  {
   "cell_type": "code",
   "execution_count": 22,
   "metadata": {},
   "outputs": [
    {
     "data": {
      "text/plain": [
       "{'v0': {'X': 1}, 'v2': {'Y': -1}, 'v1': {'X': -1, 'Y': 1}}"
      ]
     },
     "execution_count": 22,
     "metadata": {},
     "output_type": "execute_result"
    }
   ],
   "source": [
    "# Check the current stoichiometry\n",
    "m.stoichiometries"
   ]
  },
  {
   "cell_type": "code",
   "execution_count": 23,
   "metadata": {},
   "outputs": [
    {
     "data": {
      "image/png": "[encoded data removed]",
      "text/plain": [
       "<Figure size 432x288 with 1 Axes>"
      ]
     },
     "metadata": {},
     "output_type": "display_data"
    }
   ],
   "source": [
    "# create modelbase.simulate.Simulator object\n",
    "s = modelbase.Simulator(m)\n",
    "# run a timecourse\n",
    "s.timeCourse(np.linspace(0,100,1000),np.zeros(2))\n",
    "\n",
    "#plt.interactive(True)\n",
    "plt.figure()\n",
    "plt.plot(s.getT(),s.getY())\n",
    "plt.legend(m.cpdNames)\n",
    "plt.xlabel('time [s]')\n",
    "plt.ylabel('protein concentration [a.u.]')\n",
    "plt.draw_if_interactive()\n",
    "plt.show()\n"
   ]
  },
  {
   "cell_type": "markdown",
   "metadata": {},
   "source": [
    "---\n",
    "<a name=\"linchainreq\"></a>\n",
    "## Example 2: Modelling a simple chain of reactions using a rapid equilibrium approximation\n",
    "This example illustrates how to simulate a simple chain of three reactions where one of the reactions is assumed to operate on much faster time scale than other reactions and therefore can be assumed to be in an equilibrium.\n",
    "\n",
    "In the reaction chain:\n",
    "<img src=\"figures/exp1scheme.png\" width=\"400\" height=\"400\" />\n",
    "$X \\Longleftrightarrow Y$ is assumed to be very fast, i.e. in equilibrium.\n",
    "\n",
    "Approach: \n",
    "1. We define one 'slow' variable A (where A = X+Y).\n",
    "2. We instantiate model as *AlgModel*, because we will use the algebraic module,  calculating X and Y from A:\n",
    "  - we define algebraic function (`feq`) that accepts as arguments parameter object and the slow-changing variable (A) and returns an array with all derived variables ([X,Y]),\n",
    "  - we define the algebraic module object, passing the parameters and function,\n",
    "  - we add the module object to the model using `add_algebraicModule` method,\n",
    "3. We can use any quantity A, X, Y in our rate equations."
   ]
  },
  {
   "cell_type": "code",
   "execution_count": 24,
   "metadata": {},
   "outputs": [],
   "source": [
    "# define slow variable A\n",
    "cl = ['A']\n",
    "p = {'v0':1,'k2':0.1}"
   ]
  },
  {
   "cell_type": "code",
   "execution_count": 25,
   "metadata": {},
   "outputs": [],
   "source": [
    "# instantiate model as AlgmModel\n",
    "m = modelbase.Model(p)"
   ]
  },
  {
   "cell_type": "code",
   "execution_count": 26,
   "metadata": {},
   "outputs": [],
   "source": [
    "m.set_cpds(cl)"
   ]
  },
  {
   "cell_type": "code",
   "execution_count": 27,
   "metadata": {},
   "outputs": [],
   "source": [
    "# this function defines the algebraic module. It accepts as first argument\n",
    "# the parameters, then the slow-changing variable\n",
    "# output are the two derived variables X and Y\n",
    "def feq(par,y):\n",
    "    return np.array([y[0]/(1+par.K),y[0]*par.K/(1+par.K)])"
   ]
  },
  {
   "cell_type": "code",
   "execution_count": 28,
   "metadata": {},
   "outputs": [],
   "source": [
    "# add K to your parameters\n",
    "m.par.K = 5"
   ]
  },
  {
   "cell_type": "code",
   "execution_count": 29,
   "metadata": {},
   "outputs": [],
   "source": [
    "# add algebraic module object to the model by specifying the names of the variables\n",
    "m.add_algebraicModule(feq, \"eqm\", ['A'],['X','Y'])\n",
    "\n",
    "\n",
    "# constant influx to the pool A\n",
    "m.set_rate('v0',lambda p:p.v0)\n",
    "m.set_stoichiometry('v0',{'A':1})\n",
    "\n",
    "# mass-action outflux from the pool A\n",
    "# note that rate expression depends on variable Y!\n",
    "def v2(p,y):\n",
    "    return p.k2*y\n",
    "\n",
    "m.set_rate('v2',v2,'Y')\n",
    "m.set_stoichiometry('v2',{'A':-1})"
   ]
  },
  {
   "cell_type": "code",
   "execution_count": 30,
   "metadata": {},
   "outputs": [],
   "source": [
    "# use the Simulate class to get access to the variables X and Y\n",
    "s = modelbase.Simulator(m)\n",
    "s.timeCourse(np.linspace(0,100,1000),np.zeros(1));"
   ]
  },
  {
   "cell_type": "code",
   "execution_count": 31,
   "metadata": {},
   "outputs": [
    {
     "data": {
      "image/png": "[encoded data removed]",
      "text/plain": [
       "<Figure size 432x288 with 1 Axes>"
      ]
     },
     "metadata": {},
     "output_type": "display_data"
    }
   ],
   "source": [
    "plt.figure()\n",
    "plt.plot(s.getT(),s.getY())\n",
    "plt.legend(m.allCpdNames())\n",
    "plt.xlabel('time [s]')\n",
    "plt.ylabel('protein concentration [a.u.]')\n",
    "plt.draw_if_interactive()\n",
    "plt.show()"
   ]
  },
  {
   "cell_type": "markdown",
   "metadata": {},
   "source": [
    "---\n",
    "<a name=\"timedependent\"></a>\n",
    "## Example 3: Modelling a system with a time dependent external conditions\n",
    "This example illustrates how to simulate reactions that are sensitive to time dependent external conditions, extremly useful in the context of biological systems, where for instance, many enzymes are known to change their activity depending on time. \n",
    "\n",
    "In the simple 2-reaction chain influx is simulated by a time-dependent *t* function $$e^{-l*t}$$ with parameter *l* set to 1, and outflux with mass-action kinetics\n",
    "\n",
    "<img src=\"attachment:exp3scheme.png\" width=\"400\" height=\"400\" />\n",
    "\n",
    "We first use Python \\*\\*kwargs argument to define time-dependent function. \\*\\*kwargs is used to pass a keyworded, variable-length argument dictionary to a function, here, by default the key 't' refers to time. Next, we set teh rate using specially dedicated model method *set_ratev* instead of *set_rate*"
   ]
  },
  {
   "cell_type": "code",
   "execution_count": 32,
   "metadata": {},
   "outputs": [],
   "source": [
    "# Repeat previous steps to instantiate model\n",
    "cl = ['X']\n",
    "p = {'l':1,'k':0.1}"
   ]
  },
  {
   "cell_type": "code",
   "execution_count": 33,
   "metadata": {},
   "outputs": [],
   "source": [
    "# instantiate model\n",
    "m = modelbase.Model(p)"
   ]
  },
  {
   "cell_type": "code",
   "execution_count": 34,
   "metadata": {},
   "outputs": [],
   "source": [
    "m.set_cpds(cl)"
   ]
  },
  {
   "cell_type": "code",
   "execution_count": 35,
   "metadata": {},
   "outputs": [],
   "source": [
    "# define influx function using **kwargs \n",
    "def v0(p,**kwargs):\n",
    "    return np.exp(-p.l*kwargs['t'])"
   ]
  },
  {
   "cell_type": "code",
   "execution_count": 36,
   "metadata": {},
   "outputs": [],
   "source": [
    "# this rate must be set with 'ratev'\n",
    "m.set_ratev('v0',v0)\n",
    "m.set_stoichiometry('v0',{'X':1})"
   ]
  },
  {
   "cell_type": "code",
   "execution_count": 37,
   "metadata": {},
   "outputs": [],
   "source": [
    "def v1(p,x):\n",
    "    return p.k*x"
   ]
  },
  {
   "cell_type": "code",
   "execution_count": 38,
   "metadata": {},
   "outputs": [],
   "source": [
    "m.set_rate('v1',v1,'X')\n",
    "m.set_stoichiometry('v1',{'X':-1})"
   ]
  },
  {
   "cell_type": "code",
   "execution_count": 39,
   "metadata": {},
   "outputs": [],
   "source": [
    "s = modelbase.Simulator(m)\n",
    "s.timeCourse(np.linspace(0,50,500),np.zeros(1));"
   ]
  },
  {
   "cell_type": "code",
   "execution_count": 40,
   "metadata": {},
   "outputs": [
    {
     "data": {
      "image/png": "[encoded data removed]",
      "text/plain": [
       "<Figure size 432x288 with 1 Axes>"
      ]
     },
     "metadata": {},
     "output_type": "display_data"
    }
   ],
   "source": [
    "plt.figure()\n",
    "plt.plot(s.getT(),s.getVar([0]))\n",
    "plt.xlabel('time [s]')\n",
    "plt.ylabel('protein concentration [a.u.]')\n",
    "plt.show()"
   ]
  },
  {
   "cell_type": "markdown",
   "metadata": {},
   "source": [
    "---\n",
    "<a name=\"cascade\"></a>\n",
    "## Example 4: Modelling a simple protein kinase signalling cascade.\n",
    "\n",
    "This example simulates a simple protein kinase signalling cascade. It employes time-dependent external stimulus, as in previous example, and illustrates how to use algebraic modules for conserved quantitites.\n",
    "\n",
    "<img src=\"attachment:kinasescheme.png\" width=\"400\" height=\"400\" />\n",
    "\n",
    "Modelbase allows to simulate the change in concentration of each protein kinase with $\\textrm{X}_i$ refering to inactive and $\\textrm{X}$ to an active form. We are assuming here only one phosphorylation site and constitutively active, unspecific phosphatase. The reversion will be modelled with a mass-action kinetics.\n",
    "\n",
    "A real-life example of a protein kinase signalling cascade can be a mitogen-activated protein kinase (MAP kinase). MAP kinase is a type of protein kinase that is specific to the amino acids serine and threonine. MAPKs are involved in directing cellular responses to a diverse array of stimuli, such as mitogens, osmotic stress, heat shock and proinflammatory cytokines. They regulate cell functions including proliferation, gene expression, differentiation, mitosis, cell survival, and apoptosis. MAPKs typically form multi-tiered pathway. \n",
    "\n",
    "#### Model assumptions\n",
    "We apply algebraic modules for three conserved quantitites:\n",
    "$$\\begin{aligned}\n",
    "\\textrm{X} + \\textrm{X}_i = \\textrm{X}_{tot}\\\\\n",
    "\\textrm{Y} + \\textrm{Y}_i = \\textrm{Y}_{tot}\\\\\n",
    "\\textrm{Z} + \\textrm{Z}_i = \\textrm{Z}_{tot}\n",
    "\\end{aligned}$$\n",
    "Let's assume that all the reaction rates are set to 1, phosphotase activity is modelled with a simple mass action kinetics with a rate constant set to 0.5 a.u. and time-dependent stimulus is once again given as a function $$e^{-l*t}$$ with parameter *l* set to 0.5 a.u."
   ]
  },
  {
   "cell_type": "code",
   "execution_count": 41,
   "metadata": {},
   "outputs": [],
   "source": [
    "cl = ['X','Y','Z']"
   ]
  },
  {
   "cell_type": "code",
   "execution_count": 69,
   "metadata": {},
   "outputs": [],
   "source": [
    "# Provide parameters set in a form of dictionary\n",
    "p = {'l':.5, 'k1':1., 'k2':1., 'k3':1., 'p':.5, 'tot':1}"
   ]
  },
  {
   "cell_type": "code",
   "execution_count": 70,
   "metadata": {
    "hide_input": true
   },
   "outputs": [],
   "source": [
    "# Instantiate the model\n",
    "m = modelbase.Model(p)"
   ]
  },
  {
   "cell_type": "code",
   "execution_count": 71,
   "metadata": {},
   "outputs": [],
   "source": [
    "# Set the compounds\n",
    "m.set_cpds(cl)"
   ]
  },
  {
   "cell_type": "code",
   "execution_count": 72,
   "metadata": {},
   "outputs": [],
   "source": [
    "# Define the algebraic module exploiting conserved quantitites\n",
    "def conrel(par, y):\n",
    "        return np.array([par.tot - y[0]])"
   ]
  },
  {
   "cell_type": "code",
   "execution_count": 73,
   "metadata": {},
   "outputs": [],
   "source": [
    "# Add three algebraic modules, always returning the inactive form Xi, etc.\n",
    "m.add_algebraicModule(conrel,\"rapidEqx\", ['X'],['Xi'])\n",
    "m.add_algebraicModule(conrel,\"rapidEqy\", ['Y'],['Yi'])\n",
    "m.add_algebraicModule(conrel,\"rapidEqz\", ['Z'],['Zi'])"
   ]
  },
  {
   "cell_type": "code",
   "execution_count": 74,
   "metadata": {},
   "outputs": [],
   "source": [
    "# Define the time-dependent stimulus and set the rate (see Exercise 2)\n",
    "# Note that rate of conversion depends on Xi (made accessible by algebraic module)\n",
    "def v0(p,x,**kwargs):\n",
    "    return x*np.exp(-p.l*kwargs['t'])\n",
    "\n",
    "m.set_ratev('v0',v0,'Xi')\n",
    "m.set_stoichiometry('v0',{'X':1})"
   ]
  },
  {
   "cell_type": "code",
   "execution_count": 75,
   "metadata": {},
   "outputs": [],
   "source": [
    "# Define the kinases\n",
    "def k1(p,x,y0):\n",
    "    return p.k1*x*y0\n",
    "\n",
    "m.set_rate('k1',k1,'X','Yi')\n",
    "m.set_stoichiometry('k1',{'Y':1})"
   ]
  },
  {
   "cell_type": "code",
   "execution_count": 76,
   "metadata": {},
   "outputs": [],
   "source": [
    "def k2(p,x,y0):\n",
    "    return p.k2*x*y0\n",
    "\n",
    "m.set_rate('k2',k2,'Y','Zi')\n",
    "m.set_stoichiometry('k2',{'Z':1})"
   ]
  },
  {
   "cell_type": "code",
   "execution_count": 77,
   "metadata": {},
   "outputs": [],
   "source": [
    "# Define the constitutively active, unspecific phosphatase\n",
    "def phosph(p,x):\n",
    "    return p.p * x"
   ]
  },
  {
   "cell_type": "code",
   "execution_count": 78,
   "metadata": {},
   "outputs": [],
   "source": [
    "# Set the stoichiometry (here by the rate, alternatively the stoichiometry can be set by the compound name)\n",
    "m.set_rate('p1',phosph,'X')\n",
    "m.set_stoichiometry('p1',{'X':-1})\n",
    "\n",
    "m.set_rate('p2',phosph,'Y')\n",
    "m.set_stoichiometry('p2',{'Y':-1})\n",
    "\n",
    "m.set_rate('p3',phosph,'Z')\n",
    "m.set_stoichiometry('p3',{'Z':-1})"
   ]
  },
  {
   "cell_type": "code",
   "execution_count": 79,
   "metadata": {
    "scrolled": true
   },
   "outputs": [],
   "source": [
    "# Integrate the system over the time of 1 minute\n",
    "s = modelbase.Simulator(m)\n",
    "s.timeCourse(np.linspace(0,50,500),np.zeros(3));"
   ]
  },
  {
   "cell_type": "code",
   "execution_count": 80,
   "metadata": {},
   "outputs": [
    {
     "data": {
      "image/png": "[encoded data removed]",
      "text/plain": [
       "<Figure size 432x288 with 1 Axes>"
      ]
     },
     "metadata": {},
     "output_type": "display_data"
    }
   ],
   "source": [
    "# Plot the temporal evolution of the protein kinase\n",
    "plt.figure()\n",
    "plt.plot(s.getT(),s.getVarsByName(cl))\n",
    "plt.legend(cl)\n",
    "plt.xlabel('time [s]')\n",
    "plt.ylabel('protein concentration [a.u.]')\n",
    "plt.draw_if_interactive()\n",
    "plt.show()"
   ]
  },
  {
   "cell_type": "markdown",
   "metadata": {},
   "source": [
    "***\n",
    "<a name=\"isotope\"></a>\n",
    "## Example 5: Isotope-labelled models\n",
    "This example illustrates how to construct an isotope-label specific model. We simulate the equilibration of isotope distribution in the aldolase reaction. \n",
    "\n",
    "<img src=\"attachment:aldolasereaction.png\" width=\"400\" height=\"400\" />\n",
    "\n",
    "### Model assumptions\n",
    "The system includes reactions of triose-phosphate isomerase (TPI reaction)\n",
    "$$\\require{mhchem}$$  \n",
    "$$\\ce{GAP <=> DHAP}$$\n",
    "and fructose-bisphosphate aldolase\n",
    "$$\\ce{GAP + DHAP <=> FBP}$$\n",
    "\n",
    "### Approach\n",
    "1. We construct the model using class *LabelModel* from the $\\texttt{modelbase}$ package. \n",
    "2. Set the 'base' compounds and define the number of carbons using `add_base_cpd` method\n",
    "  - by providing number of carbons (N) all isotope variants will be automatically expanded ($2^\\textrm{N}$)\n",
    "3. Set rates for reactions for all isotope labelling patterns of the substrates using `add_carbonmap_reaction` that takes as arguments:\n",
    "  - rate name,\n",
    "  - function,\n",
    "  - a carbonmap: list defining how the carbons appear in the products,\n",
    "  - subList: list of substrates,\n",
    "  - prodList: list of products,\n",
    "  - *args: list of arguments required to calculate rate using function fn (substrate names MUST come first)\n",
    "  - **kwargs: required to define extra lables. Key 'extLabels', Value: list of labels, starting with 0"
   ]
  },
  {
   "cell_type": "code",
   "execution_count": 86,
   "metadata": {},
   "outputs": [],
   "source": [
    "import modelbase.ratelaws as rl"
   ]
  },
  {
   "cell_type": "code",
   "execution_count": 87,
   "metadata": {},
   "outputs": [],
   "source": [
    "# instantiate model\n",
    "m = modelbase.LabelModel()"
   ]
  },
  {
   "cell_type": "code",
   "execution_count": 88,
   "metadata": {},
   "outputs": [],
   "source": [
    "# define parameters\n",
    "m.par.update({'kf_TPI': 1.0,\n",
    "              'Keq_TPI': 21.0,\n",
    "              'kf_Ald': 2000.0,\n",
    "              'Keq_Ald': 7000.0})"
   ]
  },
  {
   "cell_type": "code",
   "execution_count": 89,
   "metadata": {},
   "outputs": [],
   "source": [
    "# set the 'base' compounds. Second argument defines numbers of carbons\n",
    "m.add_base_cpd('GAP', 3)\n",
    "m.add_base_cpd('DHAP', 3)\n",
    "m.add_base_cpd('FBP', 6)"
   ]
  },
  {
   "cell_type": "code",
   "execution_count": 90,
   "metadata": {},
   "outputs": [],
   "source": [
    "# define a simple mass-action rate-law for the forward TPI reaction\n",
    "def v1f(p,y):\n",
    "    return rl.massAction(p.kf_TPI,y)\n",
    "\n",
    "# define a carbon map reaction\n",
    "m.add_carbonmap_reaction('TPIf',v1f,[2,1,0],['GAP'],['DHAP'],'GAP')"
   ]
  },
  {
   "cell_type": "code",
   "execution_count": 91,
   "metadata": {},
   "outputs": [],
   "source": [
    "# define a simple mass-action rate-law for the backward TPI reaction\n",
    "def v1r(p,y):\n",
    "    return rl.massAction(p.kf_TPI/p.Keq_TPI,y)\n",
    "\n",
    "m.add_carbonmap_reaction('TPIr',v1r,[2,1,0],['DHAP'],['GAP'],'DHAP')"
   ]
  },
  {
   "cell_type": "code",
   "execution_count": 92,
   "metadata": {},
   "outputs": [],
   "source": [
    "# define a simple mass-action rate-law for the forward fructose-bisphosphate aldolase reaction\n",
    "def v2f(p,y,z):\n",
    "    return rl.massAction(p.kf_Ald,y,z)\n",
    "\n",
    "m.add_carbonmap_reaction('Aldf',v2f,[0,1,2,3,4,5],['DHAP','GAP'],['FBP'],'DHAP','GAP')"
   ]
  },
  {
   "cell_type": "code",
   "execution_count": 93,
   "metadata": {},
   "outputs": [],
   "source": [
    "# define a simple mass-action rate-law for the backward fructose-bisphosphate aldolase reaction\n",
    "def v2r(p,y):\n",
    "    return rl.massAction(p.kf_Ald/p.Keq_Ald,y)\n",
    "\n",
    "m.add_carbonmap_reaction('Aldr',v2r,[0,1,2,3,4,5],['FBP'],['DHAP','GAP'],'FBP')"
   ]
  },
  {
   "cell_type": "code",
   "execution_count": 94,
   "metadata": {},
   "outputs": [],
   "source": [
    "# set initial concentrations\n",
    "GAP0 = 2.5e-5\n",
    "DHAP0 = GAP0 * m.par.Keq_TPI\n",
    "FBP0 = GAP0 * DHAP0 * m.par.Keq_Ald\n",
    "y0d = {'GAP': GAP0,\n",
    "       'DHAP': DHAP0,\n",
    "       'FBP': FBP0}"
   ]
  },
  {
   "cell_type": "code",
   "execution_count": 97,
   "metadata": {},
   "outputs": [],
   "source": [
    "# simulate equilibration of the labels. You can use again Simulator class\n",
    "y0 = m.set_initconc_cpd_labelpos(y0d,labelpos={'GAP':0})\n",
    "s = modelbase.Simulator(m)\n",
    "T = np.linspace(0,20,1000)\n",
    "s.timeCourse(T,y0);"
   ]
  },
  {
   "cell_type": "markdown",
   "metadata": {},
   "source": [
    "Display the results for the Fructose 1,6-bisphosphatase (FBP) using `getLabelAtPos` method"
   ]
  },
  {
   "cell_type": "code",
   "execution_count": 98,
   "metadata": {},
   "outputs": [
    {
     "data": {
      "image/png": "[encoded data removed]",
      "text/plain": [
       "<Figure size 432x288 with 1 Axes>"
      ]
     },
     "metadata": {},
     "output_type": "display_data"
    }
   ],
   "source": [
    "plt.figure()\n",
    "plt.plot(s.getT(),np.vstack([s.getLabelAtPos('FBP',i) for i in range(6)]).transpose())\n",
    "plt.legend([str(i+1) for i in range(6)])\n",
    "plt.title(\"Label in FBP positions - equilibration\")\n",
    "plt.xlabel('time [a.u.]')\n",
    "plt.ylabel('labeled amount in each position')\n",
    "plt.show()"
   ]
  },
  {
   "cell_type": "code",
   "execution_count": null,
   "metadata": {},
   "outputs": [],
   "source": []
  }
 ],
 "metadata": {
  "kernelspec": {
   "display_name": "Python 3",
   "language": "python",
   "name": "python3"
  },
  "language_info": {
   "codemirror_mode": {
    "name": "ipython",
    "version": 3
   },
   "file_extension": ".py",
   "mimetype": "text/x-python",
   "name": "python",
   "nbconvert_exporter": "python",
   "pygments_lexer": "ipython3",
   "version": "3.6.6"
  }
 },
 "nbformat": 4,
 "nbformat_minor": 2
}
